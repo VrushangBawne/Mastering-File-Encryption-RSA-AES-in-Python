{
  "nbformat": 4,
  "nbformat_minor": 0,
  "metadata": {
    "colab": {
      "provenance": []
    },
    "kernelspec": {
      "name": "python3",
      "display_name": "Python 3"
    },
    "language_info": {
      "name": "python"
    }
  },
  "cells": [
    {
      "cell_type": "code",
      "execution_count": null,
      "metadata": {
        "colab": {
          "base_uri": "https://localhost:8080/"
        },
        "id": "q775uyuYlw5w",
        "outputId": "8a70316a-743b-4d92-834a-562d04466a24"
      },
      "outputs": [
        {
          "output_type": "stream",
          "name": "stdout",
          "text": [
            "Collecting pycryptodome\n",
            "  Downloading pycryptodome-3.19.0-cp35-abi3-manylinux_2_17_x86_64.manylinux2014_x86_64.whl (2.1 MB)\n",
            "\u001b[2K     \u001b[90m━━━━━━━━━━━━━━━━━━━━━━━━━━━━━━━━━━━━━━━━\u001b[0m \u001b[32m2.1/2.1 MB\u001b[0m \u001b[31m8.4 MB/s\u001b[0m eta \u001b[36m0:00:00\u001b[0m\n",
            "\u001b[?25hInstalling collected packages: pycryptodome\n",
            "Successfully installed pycryptodome-3.19.0\n"
          ]
        }
      ],
      "source": [
        "pip install pycryptodome"
      ]
    },
    {
      "cell_type": "code",
      "source": [
        "from Crypto.Cipher import PKCS1_OAEP, AES # Importing PKCS1_OAEP for RSA encryption/decryption and AES for symmetric key encryption.\n",
        "from Crypto.Protocol.KDF import PBKDF2 # Importing PBKDF2, a key derivation function, commonly used to derive secure keys\n",
        "from Crypto.PublicKey import RSA #  Importing RSA for asymmetric key generation, encryption, and decryption functionalities.\n",
        "from Crypto.Signature import pkcs1_15 # Importing pkcs1_15 for RSA-based signing and signature verification.\n",
        "from Crypto.Hash import SHA256 # Importing SHA256, a secure hashing algorithm for generating hash values.\n",
        "from Crypto.Random import get_random_bytes #  Importing a function to generate cryptographically secure random bytes, useful for keys or IVs.\n",
        "from Crypto.Util.Padding import pad, unpad #  Importing padding utilities to adjust data block size to fit AES requirements.\n",
        "from Crypto.Hash import SHA256 #(Duplicate) Importing SHA256 again, a hashing algorithm used for cryptographic hash functions.\n",
        "\n",
        "def generate_rsa_keys():\n",
        "    \"\"\"Generate RSA key pairs for digital signature.\"\"\"\n",
        "    key = RSA.generate(2048)\n",
        "    # Generates a new RSA key pair with a strength of 2048 bits, which is considered secure for modern standards.\n",
        "    private_key = key.export_key()\n",
        "    #  Extracts and exports the private key from the generated RSA key pair.\n",
        "    public_key = key.publickey().export_key()\n",
        "    # Extracts the public key from the generated RSA key pair and exports it.\n",
        "    return private_key, public_key\n",
        "\n",
        "def sign_message(message, private_key):\n",
        "    #  Defines a function to sign a message using an RSA private key.\n",
        "    key = RSA.import_key(private_key)\n",
        "    # Imports the RSA private key for use in signing.\n",
        "    h = SHA256.new(message)\n",
        "    # Creates a SHA-256 hash object from the provided message. This hash will be signed.\n",
        "    signature = pkcs1_15.new(key).sign(h)\n",
        "    # Signs the hash of the message using the imported private key and PKCS#1.5 padding scheme, creating the digital signature.\n",
        "    return signature\n",
        "    # Create a SHA-256 hash object from the message\n",
        "    h = SHA256.new(message.encode())\n",
        "    # Sign the hash using PKCS#1.5 padding\n",
        "    signature = pkcs1_15.new(key).sign(h)\n",
        "    # : (Redundant) Again signs the hash of the message, duplicating the earlier action.\n",
        "    return signature\n",
        "\n",
        "def verify_signature(message, signature, public_key):\n",
        "    # Import the public key\n",
        "    key = RSA.import_key(public_key)\n",
        "      # Create a SHA-256 hash object from the message\n",
        "    h = SHA256.new(message)\n",
        "    try:\n",
        "        # Verify the signature using PKCS#1.5 padding\n",
        "        pkcs1_15.new(key).verify(h, signature)\n",
        "        return True  # Signature is valid\n",
        "    except (ValueError, TypeError):\n",
        "        return False  # Signature is not valid\n",
        "\n",
        "\n",
        "\n",
        "def encrypt_file(file_path, public_key_path, output_path, private_key_sender):\n",
        "    # Defines a function for encrypting a file. It takes the path of the file\n",
        "    # to be encrypted, the path of the receiver's public key, the path for the\n",
        "    # output encrypted file, and the sender's private key as parameters.\n",
        "    with open(public_key_path, 'rb') as file:\n",
        "    # Opens the file containing the receiver's public key in binary read mode.\n",
        "        public_key_receiver = RSA.import_key(file.read())\n",
        "    # Reads the receiver's public key from the file and imports it for use in\n",
        "    # encryption. This public key will be used to encrypt data so that only the\n",
        "    # holder of the corresponding private key can decrypt it.\n",
        "\n",
        "    # Generate a random symmetric key for AES encryption\n",
        "    symmetric_key = get_random_bytes(32)  # Use a 256-bit key for AES\n",
        "    iv = get_random_bytes(16)\n",
        "\n",
        "    # Encrypt the symmetric key with the receiver's public key\n",
        "    cipher_rsa = PKCS1_OAEP.new(public_key_receiver, hashAlgo=SHA256)\n",
        "    encrypted_symmetric_key = cipher_rsa.encrypt(symmetric_key)\n",
        "\n",
        "    # Sign the symmetric key with the sender's private key\n",
        "    signature = sign_message(symmetric_key, private_key_sender)\n",
        "\n",
        "    # Encrypt the file content with AES using the symmetric key\n",
        "    cipher_aes = AES.new(symmetric_key, AES.MODE_CBC, iv=iv)\n",
        "    with open(file_path, 'rb') as file:\n",
        "        plaintext = file.read()\n",
        "    print(\"Encryption successful.\")\n",
        "    ciphertext = cipher_aes.encrypt(pad(plaintext, AES.block_size))\n",
        "\n",
        "    # Save the encrypted data, IV, and encrypted signature\n",
        "    with open(output_path, 'wb') as file:\n",
        "        file.write(encrypted_symmetric_key)\n",
        "        file.write(signature)\n",
        "        file.write(iv)\n",
        "        file.write(ciphertext)\n",
        "\n",
        "def decrypt_file(encrypted_path, private_key_path, public_key_sender_path, output_path):\n",
        "  # Defines a function for decrypting a file. It takes the path of the encrypted file,\n",
        "  # the path to the receiver's private key, the path to the sender's public key, and the path for the output decrypted file as parameters.\n",
        "    with open(private_key_path, 'rb') as file:\n",
        "  # Opens the file containing the receiver's private key in binary read mode.\n",
        "  # This key is essential for decrypting the data encrypted with the corresponding public key.\n",
        "        private_key_receiver = RSA.import_key(file.read())\n",
        "  # Reads and imports the receiver's private key from the file.\n",
        "  # This key is used to decrypt the encrypted data that was intended for the receiver.\n",
        "\n",
        "    with open(public_key_sender_path, 'rb') as file:\n",
        "    # pens the file containing the sender's public key in binary read mode.\n",
        "    # This public key is used to verify the authenticity of the encrypted data.\n",
        "        public_key_sender = RSA.import_key(file.read())\n",
        "    # Reads and imports the sender's public key from the file. This key is necessary\n",
        "    # to verify any digital signature attached to the encrypted data, ensuring it's from the legitimate sender.\n",
        "\n",
        "\n",
        "    # Read the encrypted symmetric key, encrypted signature, IV, and ciphertext\n",
        "    with open(encrypted_path, 'rb') as file:\n",
        "        encrypted_symmetric_key = file.read(256)\n",
        "        signature = file.read(256)\n",
        "        iv = file.read(16)\n",
        "        ciphertext = file.read()\n",
        "\n",
        "    # Decrypt the symmetric key with the receiver's private key\n",
        "    cipher_rsa = PKCS1_OAEP.new(private_key_receiver, hashAlgo=SHA256)\n",
        "    symmetric_key = cipher_rsa.decrypt(encrypted_symmetric_key)\n",
        "\n",
        "    # Verify the digital signature of the symmetric key with sender's public key\n",
        "    if verify_signature(symmetric_key, signature, public_key_sender.export_key()):\n",
        "        print(\"Signature verification successful.\")\n",
        "        # Decrypt the file content with AES using the decrypted symmetric key and IV\n",
        "        cipher_aes = AES.new(symmetric_key, AES.MODE_CBC, iv=iv)\n",
        "        decrypted_data = unpad(cipher_aes.decrypt(ciphertext), AES.block_size)\n",
        "\n",
        "        # Save the decrypted file data\n",
        "        with open(output_path, 'wb') as file:\n",
        "            file.write(decrypted_data)\n",
        "        print(\"Decryption successful.\")\n",
        "    else:\n",
        "        print(\"Signature verification failed. Aborting decryption.\")\n",
        "\n",
        "# User 1 (Sender)\n",
        "private_key_user1, public_key_user1 = generate_rsa_keys()\n",
        "# Calls the generate_rsa_keys function to create an RSA key pair for User 1, assigning the generated private and public keys to respective variables.\n",
        "with open('private_key_user1.pem', 'wb') as file:\n",
        "# Opens (or creates if it doesn't exist) a file named 'private_key_user1.pem' in binary write mode to store User 1's private key.\n",
        "    file.write(private_key_user1)\n",
        "with open('public_key_user1.pem', 'wb') as file:\n",
        "#  Opens a file named 'public_key_user1.pem' in binary write mode for storing User 1's public key.\n",
        "    file.write(public_key_user1)\n",
        "\n",
        "# User 2 (Receiver)\n",
        "private_key_user2, public_key_user2 = generate_rsa_keys()\n",
        "#  Generates an RSA key pair for User 2 using the generate_rsa_keys function, with separate variables for the private and public keys.\n",
        "with open('private_key_user2.pem', 'wb') as file:\n",
        "# Creates or opens a file to store User 2's private key in binary write mode.\n",
        "    file.write(private_key_user2)\n",
        "with open('public_key_user2.pem', 'wb') as file:\n",
        "# Opens or creates a file to store User 2's public key.\n",
        "    file.write(public_key_user2)\n",
        "\n",
        "# Encrypt PNG file by User 1\n",
        "encrypt_file('/content/Fighter.webp', 'public_key_user2.pem', 'encrypted_image.bin', private_key_user1)\n",
        "\n",
        "# Decrypt PNG file by User 2\n",
        "decrypt_file('encrypted_image.bin', 'private_key_user2.pem', 'public_key_user1.pem', 'decrypted_image.png')"
      ],
      "metadata": {
        "id": "5vSA9gJHl7ro",
        "colab": {
          "base_uri": "https://localhost:8080/"
        },
        "outputId": "16350aeb-9c62-4392-ed5e-819b166d7043"
      },
      "execution_count": null,
      "outputs": [
        {
          "output_type": "stream",
          "name": "stdout",
          "text": [
            "Encryption successful.\n",
            "Signature verification successful.\n",
            "Decryption successful.\n"
          ]
        }
      ]
    },
    {
      "cell_type": "markdown",
      "source": [
        "https://github.com/VrushangBawne/Mastering-File-Encryption-RSA-AES-in-Python.git\n"
      ],
      "metadata": {
        "id": "5lVHRYkBlRRI"
      }
    }
  ]
}