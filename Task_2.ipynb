{
  "nbformat": 4,
  "nbformat_minor": 0,
  "metadata": {
    "colab": {
      "provenance": []
    },
    "kernelspec": {
      "name": "python3",
      "display_name": "Python 3"
    },
    "language_info": {
      "name": "python"
    }
  },
  "cells": [
    {
      "cell_type": "code",
      "execution_count": 2,
      "metadata": {
        "colab": {
          "base_uri": "https://localhost:8080/"
        },
        "id": "q775uyuYlw5w",
        "outputId": "8a70316a-743b-4d92-834a-562d04466a24"
      },
      "outputs": [
        {
          "output_type": "stream",
          "name": "stdout",
          "text": [
            "Collecting pycryptodome\n",
            "  Downloading pycryptodome-3.19.0-cp35-abi3-manylinux_2_17_x86_64.manylinux2014_x86_64.whl (2.1 MB)\n",
            "\u001b[2K     \u001b[90m━━━━━━━━━━━━━━━━━━━━━━━━━━━━━━━━━━━━━━━━\u001b[0m \u001b[32m2.1/2.1 MB\u001b[0m \u001b[31m8.4 MB/s\u001b[0m eta \u001b[36m0:00:00\u001b[0m\n",
            "\u001b[?25hInstalling collected packages: pycryptodome\n",
            "Successfully installed pycryptodome-3.19.0\n"
          ]
        }
      ],
      "source": [
        "pip install pycryptodome"
      ]
    },
    {
      "cell_type": "code",
      "source": [
        "from Crypto.Cipher import PKCS1_OAEP, AES\n",
        "from Crypto.Protocol.KDF import PBKDF2\n",
        "from Crypto.PublicKey import RSA\n",
        "from Crypto.Signature import pkcs1_15\n",
        "from Crypto.Hash import SHA256\n",
        "from Crypto.Random import get_random_bytes\n",
        "from Crypto.Util.Padding import pad, unpad\n",
        "from Crypto.Hash import SHA256\n",
        "\n",
        "def generate_rsa_keys():\n",
        "    \"\"\"Generate RSA key pairs for digital signature.\"\"\"\n",
        "    key = RSA.generate(2048)\n",
        "    private_key = key.export_key()\n",
        "    public_key = key.publickey().export_key()\n",
        "    return private_key, public_key\n",
        "\n",
        "def sign_message(message, private_key):\n",
        "    key = RSA.import_key(private_key)\n",
        "    h = SHA256.new(message)\n",
        "    signature = pkcs1_15.new(key).sign(h)\n",
        "    return signature\n",
        "    # Create a SHA-256 hash object from the message\n",
        "    h = SHA256.new(message.encode())\n",
        "    # Sign the hash using PKCS#1.5 padding\n",
        "    signature = pkcs1_15.new(key).sign(h)\n",
        "    return signature\n",
        "\n",
        "def verify_signature(message, signature, public_key):\n",
        "    # Import the public key\n",
        "    key = RSA.import_key(public_key)\n",
        "      # Create a SHA-256 hash object from the message\n",
        "    h = SHA256.new(message)\n",
        "    try:\n",
        "        # Verify the signature using PKCS#1.5 padding\n",
        "        pkcs1_15.new(key).verify(h, signature)\n",
        "        return True  # Signature is valid\n",
        "    except (ValueError, TypeError):\n",
        "        return False  # Signature is not valid\n",
        "\n",
        "\n",
        "\n",
        "def encrypt_file(file_path, public_key_path, output_path, private_key_sender):\n",
        "    with open(public_key_path, 'rb') as file:\n",
        "        public_key_receiver = RSA.import_key(file.read())\n",
        "\n",
        "    # Generate a random symmetric key for AES encryption\n",
        "    symmetric_key = get_random_bytes(32)  # Use a 256-bit key for AES\n",
        "    iv = get_random_bytes(16)\n",
        "\n",
        "    # Encrypt the symmetric key with the receiver's public key\n",
        "    cipher_rsa = PKCS1_OAEP.new(public_key_receiver, hashAlgo=SHA256)\n",
        "    encrypted_symmetric_key = cipher_rsa.encrypt(symmetric_key)\n",
        "\n",
        "    # Sign the symmetric key with the sender's private key\n",
        "    signature = sign_message(symmetric_key, private_key_sender)\n",
        "\n",
        "    # Encrypt the file content with AES using the symmetric key\n",
        "    cipher_aes = AES.new(symmetric_key, AES.MODE_CBC, iv=iv)\n",
        "    with open(file_path, 'rb') as file:\n",
        "        plaintext = file.read()\n",
        "    print(\"Encryption successful.\")\n",
        "    ciphertext = cipher_aes.encrypt(pad(plaintext, AES.block_size))\n",
        "\n",
        "    # Save the encrypted data, IV, and encrypted signature\n",
        "    with open(output_path, 'wb') as file:\n",
        "        file.write(encrypted_symmetric_key)\n",
        "        file.write(signature)\n",
        "        file.write(iv)\n",
        "        file.write(ciphertext)\n",
        "\n",
        "def decrypt_file(encrypted_path, private_key_path, public_key_sender_path, output_path):\n",
        "    with open(private_key_path, 'rb') as file:\n",
        "        private_key_receiver = RSA.import_key(file.read())\n",
        "\n",
        "    with open(public_key_sender_path, 'rb') as file:\n",
        "        public_key_sender = RSA.import_key(file.read())\n",
        "\n",
        "    # Read the encrypted symmetric key, encrypted signature, IV, and ciphertext\n",
        "    with open(encrypted_path, 'rb') as file:\n",
        "        encrypted_symmetric_key = file.read(256)\n",
        "        signature = file.read(256)\n",
        "        iv = file.read(16)\n",
        "        ciphertext = file.read()\n",
        "\n",
        "    # Decrypt the symmetric key with the receiver's private key\n",
        "    cipher_rsa = PKCS1_OAEP.new(private_key_receiver, hashAlgo=SHA256)\n",
        "    symmetric_key = cipher_rsa.decrypt(encrypted_symmetric_key)\n",
        "\n",
        "    # Verify the digital signature of the symmetric key with sender's public key\n",
        "    if verify_signature(symmetric_key, signature, public_key_sender.export_key()):\n",
        "        print(\"Signature verification successful.\")\n",
        "        # Decrypt the file content with AES using the decrypted symmetric key and IV\n",
        "        cipher_aes = AES.new(symmetric_key, AES.MODE_CBC, iv=iv)\n",
        "        decrypted_data = unpad(cipher_aes.decrypt(ciphertext), AES.block_size)\n",
        "\n",
        "        # Save the decrypted file data\n",
        "        with open(output_path, 'wb') as file:\n",
        "            file.write(decrypted_data)\n",
        "        print(\"Decryption successful.\")\n",
        "    else:\n",
        "        print(\"Signature verification failed. Aborting decryption.\")\n",
        "\n",
        "# User 1 (Sender)\n",
        "private_key_user1, public_key_user1 = generate_rsa_keys()\n",
        "with open('private_key_user1.pem', 'wb') as file:\n",
        "    file.write(private_key_user1)\n",
        "with open('public_key_user1.pem', 'wb') as file:\n",
        "    file.write(public_key_user1)\n",
        "\n",
        "# User 2 (Receiver)\n",
        "private_key_user2, public_key_user2 = generate_rsa_keys()\n",
        "with open('private_key_user2.pem', 'wb') as file:\n",
        "    file.write(private_key_user2)\n",
        "with open('public_key_user2.pem', 'wb') as file:\n",
        "    file.write(public_key_user2)\n",
        "\n",
        "# Encrypt PNG file by User 1\n",
        "encrypt_file('/content/Fighter.webp', 'public_key_user2.pem', 'encrypted_image.bin', private_key_user1)\n",
        "\n",
        "# Decrypt PNG file by User 2\n",
        "decrypt_file('encrypted_image.bin', 'private_key_user2.pem', 'public_key_user1.pem', 'decrypted_image.png')"
      ],
      "metadata": {
        "id": "5vSA9gJHl7ro",
        "colab": {
          "base_uri": "https://localhost:8080/"
        },
        "outputId": "16350aeb-9c62-4392-ed5e-819b166d7043"
      },
      "execution_count": 14,
      "outputs": [
        {
          "output_type": "stream",
          "name": "stdout",
          "text": [
            "Encryption successful.\n",
            "Signature verification successful.\n",
            "Decryption successful.\n"
          ]
        }
      ]
    }
  ]
}